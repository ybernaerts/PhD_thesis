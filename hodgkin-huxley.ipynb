{
 "cells": [
  {
   "cell_type": "code",
   "execution_count": 8,
   "metadata": {},
   "outputs": [],
   "source": [
    "import numpy as np\n",
    "import pandas as pd\n",
    "import matplotlib as mpl\n",
    "import seaborn as sns\n",
    "import matplotlib.pyplot as plt\n",
    "import torch\n",
    "\n",
    "# the simulator\n",
    "import simulator\n",
    "\n",
    "# ephys extraction utilities\n",
    "from ephys_utils_hh import get_time_voltage_current_currindex0, calculate_summary_statistics, syn_current\n",
    "\n",
    "#sbi utils\n",
    "import sbi.utils as utils\n",
    "\n",
    "# load and read nwb files\n",
    "from pynwb import NWBHDF5IO\n",
    "\n",
    "# import saver utilities\n",
    "import pickle\n",
    "\n",
    "# to check how long things take\n",
    "import time"
   ]
  },
  {
   "cell_type": "code",
   "execution_count": 4,
   "metadata": {},
   "outputs": [],
   "source": [
    "# remove top and right axis from plots\n",
    "mpl.rcParams['axes.spines.right'] = False\n",
    "mpl.rcParams['axes.spines.top'] = False"
   ]
  },
  {
   "cell_type": "markdown",
   "metadata": {},
   "source": [
    "## Loading observed experimental data"
   ]
  },
  {
   "cell_type": "code",
   "execution_count": 5,
   "metadata": {},
   "outputs": [],
   "source": [
    "M1_25degree = pickle.load(open('data/M1_features.pickle', 'rb'))\n",
    "ephys_features = np.array(M1_25degree['X_o'].columns)[:-4]\n",
    "Xo = M1_25degree['X_o'].copy()"
   ]
  },
  {
   "cell_type": "code",
   "execution_count": 6,
   "metadata": {},
   "outputs": [],
   "source": [
    "prop = pd.read_csv('data/m1_patchseq_meta_data.csv', sep = '\\t')\n",
    "prop = prop.rename(columns = {'Targeted layer': 'Layer'})\n",
    "prop = prop[['Cell', 'Layer', 'Cre', 'RNA type']]\n",
    "prop = prop.set_index('Cell')\n",
    "prop=prop.reindex(Xo.index)\n",
    "no_low_qual=np.array(list(map(str,prop['RNA type'].values)))!='nan'\n",
    "prop=prop.loc[no_low_qual,:]\n",
    "Xo = Xo.loc[no_low_qual,:]\n",
    "celltypes=prop['RNA type']"
   ]
  },
  {
   "cell_type": "markdown",
   "metadata": {},
   "source": [
    "## The uniform prior"
   ]
  },
  {
   "cell_type": "code",
   "execution_count": 9,
   "metadata": {},
   "outputs": [],
   "source": [
    "model_param_names = np.array(['C', r'$R_{input}$', r'$\\tau$', r'$g_{Nat}$', r'$g_{Na}$', r'$g_{Kd}$', r'$g_{M}$',\n",
    "                         r'$g_{Kv31}$', r'$g_{L}$', r'$E_{leak}$', r'$\\tau_{max}$', 'VT', 'rate_to_SS_factor'])\n",
    "prior_min = [0.1,  20,  0.1,    0,        0,      0,      0,      0,      0, -130,    50,    -90,   0.1]\n",
    "prior_max = [15,   1000,   70,   250,     100,      30,    3,     250,     3,  -50,  4000,   -35,    3]\n",
    "prior = utils.torchutils.BoxUniform(\n",
    "    low=torch.as_tensor(prior_min),\n",
    "    high=torch.as_tensor(prior_max)\n",
    ")"
   ]
  },
  {
   "cell_type": "markdown",
   "metadata": {},
   "source": [
    "## The simulator"
   ]
  },
  {
   "cell_type": "code",
   "execution_count": 10,
   "metadata": {},
   "outputs": [],
   "source": [
    "from simulator import EphysModel"
   ]
  },
  {
   "cell_type": "code",
   "execution_count": 11,
   "metadata": {},
   "outputs": [],
   "source": [
    "M1_model=EphysModel(name='M1',\n",
    "                   T=25.0,\n",
    "                   E_Na=69.0,\n",
    "                   E_K=-98.4,\n",
    "                   E_Ca=127.2,\n",
    "                   start=100,\n",
    "                   end=700,\n",
    "                   dt=0.04,\n",
    "                   n_processes=1,\n",
    "                   noise_factor=10,\n",
    "                   use_pathos=False,\n",
    "                   chunk_size=1000,\n",
    "                   save_chunks=False)"
   ]
  },
  {
   "cell_type": "markdown",
   "metadata": {},
   "source": [
    "Let us have a look at two examples."
   ]
  },
  {
   "cell_type": "code",
   "execution_count": 12,
   "metadata": {},
   "outputs": [],
   "source": [
    "trial=np.array([9.537584,272.991610,21.443249,93.058479,36.266320,10.740511,0.880451,27.365699,\n",
    "                0.912325,-85.184921,413.258078,-54.367571,1.655731], dtype=float)[np.newaxis,:]\n",
    "x=M1_model._run_HH_model(trial)"
   ]
  },
  {
   "cell_type": "code",
   "execution_count": 13,
   "metadata": {},
   "outputs": [
    {
     "data": {
      "text/plain": [
       "Text(0, 0.5, 'mV')"
      ]
     },
     "execution_count": 13,
     "metadata": {},
     "output_type": "execute_result"
    },
    {
     "data": {
      "image/png": "[encoded data removed]",
      "text/plain": [
       "<Figure size 432x288 with 1 Axes>"
      ]
     },
     "metadata": {
      "needs_background": "light"
     },
     "output_type": "display_data"
    }
   ],
   "source": [
    "plt.plot(x['time'], x['data'][0,0,:], c='k')\n",
    "plt.xlabel('ms')\n",
    "plt.ylabel('mV')"
   ]
  },
  {
   "cell_type": "code",
   "execution_count": 14,
   "metadata": {},
   "outputs": [
    {
     "data": {
      "text/html": [
       "<div>\n",
       "<style scoped>\n",
       "    .dataframe tbody tr th:only-of-type {\n",
       "        vertical-align: middle;\n",
       "    }\n",
       "\n",
       "    .dataframe tbody tr th {\n",
       "        vertical-align: top;\n",
       "    }\n",
       "\n",
       "    .dataframe thead th {\n",
       "        text-align: right;\n",
       "    }\n",
       "</style>\n",
       "<table border=\"1\" class=\"dataframe\">\n",
       "  <thead>\n",
       "    <tr style=\"text-align: right;\">\n",
       "      <th></th>\n",
       "      <th>AP threshold</th>\n",
       "      <th>AP amplitude</th>\n",
       "      <th>AP width</th>\n",
       "      <th>AHP</th>\n",
       "      <th>3rd AP threshold</th>\n",
       "      <th>3rd AP amplitude</th>\n",
       "      <th>3rd AP width</th>\n",
       "      <th>3rd AHP</th>\n",
       "      <th>AP count</th>\n",
       "      <th>AP count 1st 8th</th>\n",
       "      <th>...</th>\n",
       "      <th>AP amp adapt</th>\n",
       "      <th>AP average amp adapt</th>\n",
       "      <th>AP CV</th>\n",
       "      <th>ISI adapt</th>\n",
       "      <th>ISI CV</th>\n",
       "      <th>latency</th>\n",
       "      <th>rest $V_{m}$ mean</th>\n",
       "      <th>$V_{m}$ mean</th>\n",
       "      <th>$V_{m}$ std</th>\n",
       "      <th>$V_{m}$ skewness</th>\n",
       "    </tr>\n",
       "  </thead>\n",
       "  <tbody>\n",
       "    <tr>\n",
       "      <th>0</th>\n",
       "      <td>-51.822882</td>\n",
       "      <td>89.584034</td>\n",
       "      <td>2.0</td>\n",
       "      <td>-0.268987</td>\n",
       "      <td>-41.307896</td>\n",
       "      <td>49.57993</td>\n",
       "      <td>2.56</td>\n",
       "      <td>-0.983748</td>\n",
       "      <td>3.135494</td>\n",
       "      <td>2.197225</td>\n",
       "      <td>...</td>\n",
       "      <td>-0.356495</td>\n",
       "      <td>0.435438</td>\n",
       "      <td>-1.449348</td>\n",
       "      <td>-0.17185</td>\n",
       "      <td>-0.649021</td>\n",
       "      <td>2.447551</td>\n",
       "      <td>-85.317931</td>\n",
       "      <td>-43.961633</td>\n",
       "      <td>293.322523</td>\n",
       "      <td>2.115607</td>\n",
       "    </tr>\n",
       "  </tbody>\n",
       "</table>\n",
       "<p>1 rows × 23 columns</p>\n",
       "</div>"
      ],
      "text/plain": [
       "   AP threshold  AP amplitude  AP width       AHP  3rd AP threshold  \\\n",
       "0    -51.822882     89.584034       2.0 -0.268987        -41.307896   \n",
       "\n",
       "   3rd AP amplitude  3rd AP width   3rd AHP  AP count  AP count 1st 8th  ...  \\\n",
       "0          49.57993          2.56 -0.983748  3.135494          2.197225  ...   \n",
       "\n",
       "   AP amp adapt  AP average amp adapt     AP CV  ISI adapt    ISI CV  \\\n",
       "0     -0.356495              0.435438 -1.449348   -0.17185 -0.649021   \n",
       "\n",
       "    latency  rest $V_{m}$ mean  $V_{m}$ mean  $V_{m}$ std  $V_{m}$ skewness  \n",
       "0  2.447551         -85.317931    -43.961633   293.322523          2.115607  \n",
       "\n",
       "[1 rows x 23 columns]"
      ]
     },
     "execution_count": 14,
     "metadata": {},
     "output_type": "execute_result"
    }
   ],
   "source": [
    "df=pd.DataFrame(data=M1_model._simulation_wrapper(trial).numpy(), columns=ephys_features)\n",
    "df.head()"
   ]
  },
  {
   "cell_type": "markdown",
   "metadata": {},
   "source": [
    "Let's try out a randomly sampled one from our uniform prior. It could be a simulation with no action potentials and/or look quite weird!"
   ]
  },
  {
   "cell_type": "code",
   "execution_count": 15,
   "metadata": {},
   "outputs": [
    {
     "data": {
      "text/html": [
       "<div>\n",
       "<style scoped>\n",
       "    .dataframe tbody tr th:only-of-type {\n",
       "        vertical-align: middle;\n",
       "    }\n",
       "\n",
       "    .dataframe tbody tr th {\n",
       "        vertical-align: top;\n",
       "    }\n",
       "\n",
       "    .dataframe thead th {\n",
       "        text-align: right;\n",
       "    }\n",
       "</style>\n",
       "<table border=\"1\" class=\"dataframe\">\n",
       "  <thead>\n",
       "    <tr style=\"text-align: right;\">\n",
       "      <th></th>\n",
       "      <th>C</th>\n",
       "      <th>$R_{input}$</th>\n",
       "      <th>$\\tau$</th>\n",
       "      <th>$g_{Nat}$</th>\n",
       "      <th>$g_{Na}$</th>\n",
       "      <th>$g_{Kd}$</th>\n",
       "      <th>$g_{M}$</th>\n",
       "      <th>$g_{Kv31}$</th>\n",
       "      <th>$g_{L}$</th>\n",
       "      <th>$E_{leak}$</th>\n",
       "      <th>$\\tau_{max}$</th>\n",
       "      <th>VT</th>\n",
       "      <th>rate_to_SS_factor</th>\n",
       "    </tr>\n",
       "  </thead>\n",
       "  <tbody>\n",
       "    <tr>\n",
       "      <th>0</th>\n",
       "      <td>11.971058</td>\n",
       "      <td>927.447815</td>\n",
       "      <td>22.303003</td>\n",
       "      <td>248.034592</td>\n",
       "      <td>70.069847</td>\n",
       "      <td>9.396482</td>\n",
       "      <td>0.816918</td>\n",
       "      <td>51.381664</td>\n",
       "      <td>0.95047</td>\n",
       "      <td>-60.968239</td>\n",
       "      <td>3311.602051</td>\n",
       "      <td>-80.627502</td>\n",
       "      <td>1.536211</td>\n",
       "    </tr>\n",
       "  </tbody>\n",
       "</table>\n",
       "</div>"
      ],
      "text/plain": [
       "           C  $R_{input}$     $\\tau$   $g_{Nat}$   $g_{Na}$  $g_{Kd}$  \\\n",
       "0  11.971058   927.447815  22.303003  248.034592  70.069847  9.396482   \n",
       "\n",
       "    $g_{M}$  $g_{Kv31}$  $g_{L}$  $E_{leak}$  $\\tau_{max}$         VT  \\\n",
       "0  0.816918   51.381664  0.95047  -60.968239   3311.602051 -80.627502   \n",
       "\n",
       "   rate_to_SS_factor  \n",
       "0           1.536211  "
      ]
     },
     "execution_count": 15,
     "metadata": {},
     "output_type": "execute_result"
    }
   ],
   "source": [
    "trial=prior.sample((1,))\n",
    "df=pd.DataFrame(data=trial,columns=model_param_names)\n",
    "x=M1_model._run_HH_model(trial)\n",
    "df.head()"
   ]
  },
  {
   "cell_type": "code",
   "execution_count": 16,
   "metadata": {},
   "outputs": [
    {
     "data": {
      "text/plain": [
       "Text(0, 0.5, 'mV')"
      ]
     },
     "execution_count": 16,
     "metadata": {},
     "output_type": "execute_result"
    },
    {
     "data": {
      "image/png": "[encoded data removed]",
      "text/plain": [
       "<Figure size 432x288 with 1 Axes>"
      ]
     },
     "metadata": {
      "needs_background": "light"
     },
     "output_type": "display_data"
    }
   ],
   "source": [
    "plt.plot(x['time'], x['data'][0,0,:], c='k')\n",
    "plt.xlabel('ms')\n",
    "plt.ylabel('mV')"
   ]
  },
  {
   "cell_type": "code",
   "execution_count": 17,
   "metadata": {},
   "outputs": [
    {
     "data": {
      "text/html": [
       "<div>\n",
       "<style scoped>\n",
       "    .dataframe tbody tr th:only-of-type {\n",
       "        vertical-align: middle;\n",
       "    }\n",
       "\n",
       "    .dataframe tbody tr th {\n",
       "        vertical-align: top;\n",
       "    }\n",
       "\n",
       "    .dataframe thead th {\n",
       "        text-align: right;\n",
       "    }\n",
       "</style>\n",
       "<table border=\"1\" class=\"dataframe\">\n",
       "  <thead>\n",
       "    <tr style=\"text-align: right;\">\n",
       "      <th></th>\n",
       "      <th>AP threshold</th>\n",
       "      <th>AP amplitude</th>\n",
       "      <th>AP width</th>\n",
       "      <th>AHP</th>\n",
       "      <th>3rd AP threshold</th>\n",
       "      <th>3rd AP amplitude</th>\n",
       "      <th>3rd AP width</th>\n",
       "      <th>3rd AHP</th>\n",
       "      <th>AP count</th>\n",
       "      <th>AP count 1st 8th</th>\n",
       "      <th>...</th>\n",
       "      <th>AP amp adapt</th>\n",
       "      <th>AP average amp adapt</th>\n",
       "      <th>AP CV</th>\n",
       "      <th>ISI adapt</th>\n",
       "      <th>ISI CV</th>\n",
       "      <th>latency</th>\n",
       "      <th>rest $V_{m}$ mean</th>\n",
       "      <th>$V_{m}$ mean</th>\n",
       "      <th>$V_{m}$ std</th>\n",
       "      <th>$V_{m}$ skewness</th>\n",
       "    </tr>\n",
       "  </thead>\n",
       "  <tbody>\n",
       "    <tr>\n",
       "      <th>0</th>\n",
       "      <td>-77.064876</td>\n",
       "      <td>123.867623</td>\n",
       "      <td>1.56</td>\n",
       "      <td>21.105539</td>\n",
       "      <td>NaN</td>\n",
       "      <td>NaN</td>\n",
       "      <td>NaN</td>\n",
       "      <td>NaN</td>\n",
       "      <td>1.609438</td>\n",
       "      <td>1.609438</td>\n",
       "      <td>...</td>\n",
       "      <td>-0.855278</td>\n",
       "      <td>3.293214e-13</td>\n",
       "      <td>-0.90796</td>\n",
       "      <td>NaN</td>\n",
       "      <td>NaN</td>\n",
       "      <td>-1.021651</td>\n",
       "      <td>-62.748288</td>\n",
       "      <td>-37.567835</td>\n",
       "      <td>17.73479</td>\n",
       "      <td>8.68977</td>\n",
       "    </tr>\n",
       "  </tbody>\n",
       "</table>\n",
       "<p>1 rows × 23 columns</p>\n",
       "</div>"
      ],
      "text/plain": [
       "   AP threshold  AP amplitude  AP width        AHP  3rd AP threshold  \\\n",
       "0    -77.064876    123.867623      1.56  21.105539               NaN   \n",
       "\n",
       "   3rd AP amplitude  3rd AP width  3rd AHP  AP count  AP count 1st 8th  ...  \\\n",
       "0               NaN           NaN      NaN  1.609438          1.609438  ...   \n",
       "\n",
       "   AP amp adapt  AP average amp adapt    AP CV  ISI adapt  ISI CV   latency  \\\n",
       "0     -0.855278          3.293214e-13 -0.90796        NaN     NaN -1.021651   \n",
       "\n",
       "   rest $V_{m}$ mean  $V_{m}$ mean  $V_{m}$ std  $V_{m}$ skewness  \n",
       "0         -62.748288    -37.567835     17.73479           8.68977  \n",
       "\n",
       "[1 rows x 23 columns]"
      ]
     },
     "execution_count": 17,
     "metadata": {},
     "output_type": "execute_result"
    }
   ],
   "source": [
    "df=pd.DataFrame(data=M1_model._simulation_wrapper(trial).numpy(), columns=ephys_features)\n",
    "df.head()"
   ]
  },
  {
   "cell_type": "markdown",
   "metadata": {},
   "source": [
    "## Distribution of summary statistics"
   ]
  },
  {
   "cell_type": "markdown",
   "metadata": {},
   "source": [
    "Let us have a look at the distribion of simulated summary statistics (or ephys features) versus the distribution of summary statistics of our observed experimental dataset."
   ]
  },
  {
   "cell_type": "code",
   "execution_count": 18,
   "metadata": {},
   "outputs": [],
   "source": [
    "# In our visualizations of 1-dimensional ephys feature distributions,\n",
    "# we'll keep the ones within certain limits to prevent outliers in the visualization.\n",
    "limits={'AP threshold':[-120,75], 'AP amplitude':[0,200], 'AP width':[0,5], 'AHP':[-80,50], \\\n",
    "        '3rd AP threshold':[-100,100], '3rd AP amplitude':[0,200], '3rd AP width':[0,5], '3rd AHP':[-60,30], \\\n",
    "        'AP count':[0,400], 'AP count 1st 8th': [0,135], 'AP count 1st quarter': [0,180], \\\n",
    "        'AP count 1st half':[0,200], 'AP count 2nd half':[0,200], 'AP amp adapt':[-1.5,1.5], \\\n",
    "        'AP average amp adapt':[-0.1,1.1], 'AP CV':[-7.5,0], \\\n",
    "        'ISI adapt':[-3,3], 'ISI CV':[-8,2.5], 'latency':[-2,6.5], r'rest $V_{m}$ mean':[-120,100], \\\n",
    "        r'$V_{m}$ mean':[-110,50], r'$V_{m}$ std':[0,2000], r'$V_{m}$ skewness':[-2,12], \\\n",
    "        'Vi':[-150,-40], '1-comp area':[0,4000]}"
   ]
  },
  {
   "cell_type": "code",
   "execution_count": 34,
   "metadata": {},
   "outputs": [
    {
     "name": "stderr",
     "output_type": "stream",
     "text": [
      "tcmalloc: large alloc 1380007936 bytes == 0x3b440000 @ \n"
     ]
    },
    {
     "name": "stdout",
     "output_type": "stream",
     "text": [
      "(# sims, # ephys features):  (15000000, 23)\n",
      "and after deleting Nan and Inf simulations: \n",
      "(# sims, # ephys features):  (7155552, 23)\n"
     ]
    },
    {
     "data": {
      "image/png": "[encoded data removed]",
      "text/plain": [
       "<Figure size 1008x864 with 25 Axes>"
      ]
     },
     "metadata": {
      "needs_background": "light"
     },
     "output_type": "display_data"
    }
   ],
   "source": [
    "theta=np.load('data/full_batch.npz')['theta']\n",
    "stats=np.load('data/full_batch.npz')['stats']\n",
    "print('(# sims, # ephys features): ', stats.shape)\n",
    "keeping=(~np.isnan(np.mean(stats, axis=1)))&(~np.isinf(np.mean(stats, axis=1)))\n",
    "stats = stats[keeping,:] # delete Nan simulations\n",
    "print('and after deleting Nan and Inf simulations: \\n(# sims, # ephys features): ', stats.shape)\n",
    "\n",
    "fig, axes = plt.subplots(5, 5, figsize = (14, 12))\n",
    "xlabelfontsize=15\n",
    "for i, ax in enumerate(axes.reshape(-1)[:len(ephys_features)]):\n",
    "        ax.hist([Xo[ephys_features[i]].values,\n",
    "                 stats[:,i][(stats[:,i]>limits[ephys_features[i]][0])&\\\n",
    "                            (stats[:,i]<limits[ephys_features[i]][1])]],\n",
    "                color=['black', 'grey'], alpha=0.5, bins=30, density=True, histtype='stepfilled', \\\n",
    "                label=[ 'observations', 'simulations'])\n",
    "        ax.set_xlabel(ephys_features[i], fontsize=xlabelfontsize)\n",
    "        if i==4:\n",
    "            ax.legend(fontsize=14, bbox_to_anchor=(1.2, 1))\n",
    "\n",
    "for ax in axes.reshape(-1)[len(ephys_features):]:\n",
    "    ax.set_xticks([])\n",
    "    ax.set_yticks([])\n",
    "    sns.despine(ax=ax, left=True, bottom=True)\n",
    "plt.tight_layout()"
   ]
  },
  {
   "cell_type": "markdown",
   "metadata": {},
   "source": [
    "Most summary statistics of our experimental dataset (observations) are very nicely covered by our simulations. Yet, we can observe some level of 'data-model gap' in terms of some 'harder to fit' summary statistics, such as the ISI adapt."
   ]
  },
  {
   "cell_type": "markdown",
   "metadata": {},
   "source": [
    "## Best prior simulations for an observed cell"
   ]
  },
  {
   "cell_type": "markdown",
   "metadata": {},
   "source": [
    "Pick a cell. You can for instance check `Xo.index` and pick one."
   ]
  },
  {
   "cell_type": "code",
   "execution_count": 25,
   "metadata": {},
   "outputs": [
    {
     "data": {
      "text/plain": [
       "Index(['20190418_sample_8', '20190418_sample_5', '20190418_sample_2',\n",
       "       '20190418_sample_9', '20190418_sample_10', '20191108_sample_5',\n",
       "       '20191108_sample_1', '20190327_sample_4', '20190327_sample_2',\n",
       "       '20180828_sample_3',\n",
       "       ...\n",
       "       '20190424_sample_4', '20180208_sample_4', '20180208_sample_3',\n",
       "       '20180208_sample_2', '20180208_sample_5', '20200106_sample_1',\n",
       "       '20200106_sample_5', '20190704_sample_12', '20190704_sample_14',\n",
       "       '20190718_sample_2'],\n",
       "      dtype='object', name='cell id', length=955)"
      ]
     },
     "execution_count": 25,
     "metadata": {},
     "output_type": "execute_result"
    }
   ],
   "source": [
    "Xo.index"
   ]
  },
  {
   "cell_type": "code",
   "execution_count": 58,
   "metadata": {},
   "outputs": [],
   "source": [
    "cell_name = '20190604_sample_2' # fast-spiking Pvalb Kank4"
   ]
  },
  {
   "cell_type": "code",
   "execution_count": 68,
   "metadata": {},
   "outputs": [],
   "source": [
    "cell_name = '20181127_sample_4' # Sst Hpse"
   ]
  },
  {
   "cell_type": "code",
   "execution_count": 76,
   "metadata": {},
   "outputs": [],
   "source": [
    "cell_name = '20180529_sample_3' # L4/5 IT_1"
   ]
  },
  {
   "cell_type": "code",
   "execution_count": 77,
   "metadata": {},
   "outputs": [
    {
     "data": {
      "text/plain": [
       "'../data/raw_data/000008/sub-mouse-PAIFP/sub-mouse-PAIFP_ses-20180529-sample-3_slice-20180529-slice-3_cell-20180529-sample-3_icephys.nwb'"
      ]
     },
     "execution_count": 77,
     "metadata": {},
     "output_type": "execute_result"
    }
   ],
   "source": [
    "#Check whether raw file name corresponds to the cell's name\n",
    "data = np.array(M1_25degree['M1_names'])[no_low_qual][np.where(Xo.index==cell_name)[0][0]]\n",
    "data"
   ]
  },
  {
   "cell_type": "code",
   "execution_count": 78,
   "metadata": {},
   "outputs": [],
   "source": [
    "data = './data/raw_data/'+data.split('/')[-1]"
   ]
  },
  {
   "cell_type": "code",
   "execution_count": 79,
   "metadata": {},
   "outputs": [
    {
     "data": {
      "text/plain": [
       "'./data/raw_data/sub-mouse-PAIFP_ses-20180529-sample-3_slice-20180529-slice-3_cell-20180529-sample-3_icephys.nwb'"
      ]
     },
     "execution_count": 79,
     "metadata": {},
     "output_type": "execute_result"
    }
   ],
   "source": [
    "data"
   ]
  },
  {
   "cell_type": "code",
   "execution_count": 80,
   "metadata": {},
   "outputs": [],
   "source": [
    "import warnings\n",
    "with warnings.catch_warnings():\n",
    "    warnings.simplefilter(\"ignore\")\n",
    "    data = NWBHDF5IO(data, 'r', load_namespaces=True).read()"
   ]
  },
  {
   "cell_type": "code",
   "execution_count": 81,
   "metadata": {},
   "outputs": [],
   "source": [
    "xo=Xo.loc[cell_name,:].iloc[:-4].values\n",
    "feature_list=range(23)"
   ]
  },
  {
   "cell_type": "code",
   "execution_count": 82,
   "metadata": {},
   "outputs": [],
   "source": [
    "time_obs, voltage_obs, current_obs, curr_index_0_obs = get_time_voltage_current_currindex0(data)\n",
    "liquid_junction_potential=15.4\n",
    "voltage_obs-=liquid_junction_potential\n",
    "\n",
    "I, t_on, t_off, dt, t, A_soma = syn_current(area=Xo.loc[cell_name, '1-comp area'], curr_level=3e-4)\n",
    "curr_index = np.where(current_obs==300)[0][0]\n",
    "observation = {'data': voltage_obs[:20000, curr_index], 'time': time_obs[:20000]*1e3, 'dt':4*1e-5*1e3, 'I': I}"
   ]
  },
  {
   "cell_type": "code",
   "execution_count": 37,
   "metadata": {},
   "outputs": [
    {
     "name": "stdout",
     "output_type": "stream",
     "text": [
      "(# sims, # ephys features):  (15000000, 23)\n",
      "and after deleting Nan and Inf simulations: \n",
      "(# sims, # ephys features):  (7155552, 23)\n"
     ]
    }
   ],
   "source": [
    "theta=np.load('data/full_batch.npz')['theta']\n",
    "stats=np.load('data/full_batch.npz')['stats']\n",
    "print('(# sims, # ephys features): ', stats.shape)\n",
    "keeping=(~np.isnan(np.mean(stats, axis=1)))&(~np.isinf(np.mean(stats, axis=1)))\n",
    "stats = stats[keeping,:] # delete Nan simulations\n",
    "print('and after deleting Nan and Inf simulations: \\n(# sims, # ephys features): ', stats.shape)"
   ]
  },
  {
   "cell_type": "code",
   "execution_count": 83,
   "metadata": {},
   "outputs": [
    {
     "data": {
      "image/png": "[encoded data removed]",
      "text/plain": [
       "<Figure size 360x360 with 4 Axes>"
      ]
     },
     "metadata": {},
     "output_type": "display_data"
    }
   ],
   "source": [
    "lw=3\n",
    "\n",
    "# Best Euclidean examples now for an example\n",
    "fig=plt.figure(figsize=(5,5))\n",
    "width=.9\n",
    "height=.2\n",
    "ax_truth=plt.axes([0,0.6,width,height])\n",
    "ax_sim1=plt.axes([0,0.4,width,height])\n",
    "ax_sim2=plt.axes([0,.2,width,height])\n",
    "ax_sim3=plt.axes([0,0,width,height])\n",
    "\n",
    "# plot observation\n",
    "ax_truth.plot(observation['time'], observation['data'], lw=lw, label='Experimental observation', c='k')\n",
    "ax_truth.legend(loc='upper center', bbox_to_anchor=(.5,1.3), fontsize=12)\n",
    "ax_truth.set_xticks([])\n",
    "ax_truth.set_yticks([])\n",
    "sns.despine(ax=ax_truth, bottom=True,left=True)\n",
    "\n",
    "#3. pick 3 that have the smallest Euclidean distance of their summ stats with the experimental observation\n",
    "s_mean=stats[:,feature_list].mean(axis=0)\n",
    "s_std=stats[:,feature_list].std(axis=0)\n",
    "ind=np.argsort(np.sum(\n",
    "                np.square((stats[:,feature_list]-s_mean)/s_std\n",
    "                    -(xo[feature_list]-s_mean)/s_std\n",
    "                         ),\n",
    "                axis=1\n",
    "                    )\n",
    "              )[0:3]\n",
    "#4. show those 3 simulations\n",
    "x = M1_model._run_HH_model(theta[keeping,:][ind,:])\n",
    "ax_sim1.plot(x['time'], x['data'][0,0,:], lw=lw, c='grey', label='HH model simulations')\n",
    "ax_sim2.plot(x['time'], x['data'][1,0,:], lw=lw, c='grey')\n",
    "ax_sim3.plot(x['time'], x['data'][2,0,:], lw=lw, c='grey')\n",
    "ax_sim3.plot([0,400], [-100,-100], 'k')\n",
    "ax_sim3.annotate('400 ms', (160,-96), fontsize=12)\n",
    "ax_sim3.plot([0,0], [-100,-30], 'k')\n",
    "ax_sim3.annotate('70 mV', (3,-60), fontsize=12)\n",
    "# ax_sim3.set_xlabel('Time (ms)', fontsize=10)\n",
    "# ax_sim3.set_ylabel('Voltage (mV)', fontsize=10)\n",
    "ax_sim1.legend(loc='upper center', bbox_to_anchor=(.5,1.28), fontsize=12)\n",
    "for ax in [ax_truth, ax_sim1, ax_sim2, ax_sim3]:\n",
    "    ax.set_xticks([])\n",
    "    ax.set_yticks([])\n",
    "    sns.despine(ax=ax, bottom=True,left=True)\n",
    "plt.savefig('./figures/{}.pdf'.format(cell_name))"
   ]
  },
  {
   "cell_type": "code",
   "execution_count": 48,
   "metadata": {},
   "outputs": [
    {
     "data": {
      "text/html": [
       "<div>\n",
       "<style scoped>\n",
       "    .dataframe tbody tr th:only-of-type {\n",
       "        vertical-align: middle;\n",
       "    }\n",
       "\n",
       "    .dataframe tbody tr th {\n",
       "        vertical-align: top;\n",
       "    }\n",
       "\n",
       "    .dataframe thead th {\n",
       "        text-align: right;\n",
       "    }\n",
       "</style>\n",
       "<table border=\"1\" class=\"dataframe\">\n",
       "  <thead>\n",
       "    <tr style=\"text-align: right;\">\n",
       "      <th></th>\n",
       "      <th>C</th>\n",
       "      <th>$R_{input}$</th>\n",
       "      <th>$\\tau$</th>\n",
       "      <th>$g_{Nat}$</th>\n",
       "      <th>$g_{Na}$</th>\n",
       "      <th>$g_{Kd}$</th>\n",
       "      <th>$g_{M}$</th>\n",
       "      <th>$g_{Kv31}$</th>\n",
       "      <th>$g_{L}$</th>\n",
       "      <th>$E_{leak}$</th>\n",
       "      <th>$\\tau_{max}$</th>\n",
       "      <th>VT</th>\n",
       "      <th>rate_to_SS_factor</th>\n",
       "    </tr>\n",
       "  </thead>\n",
       "  <tbody>\n",
       "    <tr>\n",
       "      <th>0</th>\n",
       "      <td>8.475982</td>\n",
       "      <td>579.392456</td>\n",
       "      <td>43.844521</td>\n",
       "      <td>112.609238</td>\n",
       "      <td>42.605244</td>\n",
       "      <td>11.546332</td>\n",
       "      <td>2.671538</td>\n",
       "      <td>99.308281</td>\n",
       "      <td>2.064796</td>\n",
       "      <td>-84.977928</td>\n",
       "      <td>385.326141</td>\n",
       "      <td>-65.207230</td>\n",
       "      <td>1.691576</td>\n",
       "    </tr>\n",
       "    <tr>\n",
       "      <th>1</th>\n",
       "      <td>12.480132</td>\n",
       "      <td>759.174622</td>\n",
       "      <td>67.508606</td>\n",
       "      <td>77.595337</td>\n",
       "      <td>37.895184</td>\n",
       "      <td>14.374455</td>\n",
       "      <td>2.839350</td>\n",
       "      <td>143.901672</td>\n",
       "      <td>2.294485</td>\n",
       "      <td>-80.633545</td>\n",
       "      <td>116.753838</td>\n",
       "      <td>-66.564301</td>\n",
       "      <td>1.846007</td>\n",
       "    </tr>\n",
       "    <tr>\n",
       "      <th>2</th>\n",
       "      <td>12.196687</td>\n",
       "      <td>569.508057</td>\n",
       "      <td>64.445389</td>\n",
       "      <td>105.307953</td>\n",
       "      <td>20.574211</td>\n",
       "      <td>15.574615</td>\n",
       "      <td>2.803297</td>\n",
       "      <td>109.506355</td>\n",
       "      <td>2.647254</td>\n",
       "      <td>-88.307648</td>\n",
       "      <td>210.423447</td>\n",
       "      <td>-70.096146</td>\n",
       "      <td>1.636666</td>\n",
       "    </tr>\n",
       "  </tbody>\n",
       "</table>\n",
       "</div>"
      ],
      "text/plain": [
       "           C  $R_{input}$     $\\tau$   $g_{Nat}$   $g_{Na}$   $g_{Kd}$  \\\n",
       "0   8.475982   579.392456  43.844521  112.609238  42.605244  11.546332   \n",
       "1  12.480132   759.174622  67.508606   77.595337  37.895184  14.374455   \n",
       "2  12.196687   569.508057  64.445389  105.307953  20.574211  15.574615   \n",
       "\n",
       "    $g_{M}$  $g_{Kv31}$   $g_{L}$  $E_{leak}$  $\\tau_{max}$         VT  \\\n",
       "0  2.671538   99.308281  2.064796  -84.977928    385.326141 -65.207230   \n",
       "1  2.839350  143.901672  2.294485  -80.633545    116.753838 -66.564301   \n",
       "2  2.803297  109.506355  2.647254  -88.307648    210.423447 -70.096146   \n",
       "\n",
       "   rate_to_SS_factor  \n",
       "0           1.691576  \n",
       "1           1.846007  \n",
       "2           1.636666  "
      ]
     },
     "execution_count": 48,
     "metadata": {},
     "output_type": "execute_result"
    }
   ],
   "source": [
    "df=pd.DataFrame(data=theta[keeping,:][ind,:], columns=model_param_names)\n",
    "df"
   ]
  }
 ],
 "metadata": {
  "kernelspec": {
   "display_name": "Python 3 (ipykernel)",
   "language": "python",
   "name": "python3"
  },
  "language_info": {
   "codemirror_mode": {
    "name": "ipython",
    "version": 3
   },
   "file_extension": ".py",
   "mimetype": "text/x-python",
   "name": "python",
   "nbconvert_exporter": "python",
   "pygments_lexer": "ipython3",
   "version": "3.8.10"
  },
  "varInspector": {
   "cols": {
    "lenName": 16,
    "lenType": 16,
    "lenVar": 40
   },
   "kernels_config": {
    "python": {
     "delete_cmd_postfix": "",
     "delete_cmd_prefix": "del ",
     "library": "var_list.py",
     "varRefreshCmd": "print(var_dic_list())"
    },
    "r": {
     "delete_cmd_postfix": ") ",
     "delete_cmd_prefix": "rm(",
     "library": "var_list.r",
     "varRefreshCmd": "cat(var_dic_list()) "
    }
   },
   "types_to_exclude": [
    "module",
    "function",
    "builtin_function_or_method",
    "instance",
    "_Feature"
   ],
   "window_display": false
  }
 },
 "nbformat": 4,
 "nbformat_minor": 4
}
